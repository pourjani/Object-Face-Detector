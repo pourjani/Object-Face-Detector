{
 "cells": [
  {
   "cell_type": "code",
   "execution_count": 6,
   "id": "9320c329-440f-492c-896b-144acf366cfe",
   "metadata": {},
   "outputs": [],
   "source": [
    "import numpy as np\n",
    "import cv2"
   ]
  },
  {
   "cell_type": "code",
   "execution_count": 7,
   "id": "cb1dab02-3593-41b5-961d-9049b0e78c9f",
   "metadata": {},
   "outputs": [],
   "source": [
    "face_detection_model = cv2.dnn.readNetFromCaffe('./models/deploy.prototxt.txt','./models/res10_300x300_ssd_iter_140000_fp16.caffemodel')\n"
   ]
  },
  {
   "cell_type": "code",
   "execution_count": 8,
   "id": "796b9c76-c7d5-4a9a-a9c2-c60ba720c1ff",
   "metadata": {},
   "outputs": [],
   "source": [
    "def face_detection_dnn(img):\n",
    "\n",
    "    blob = cv2.dnn.blobFromImage(img, 1, (300, 300), (104, 177, 123), swapRB=True, crop=False)\n",
    "    #(104, 177, 123) => These are the Mean Values for Preprocessing.\n",
    "    #They’re used to normalize the image before passing it to the neural network.\n",
    "    face_detection_model.setInput(blob)  # Feed the preprocessed image in\n",
    "    detections = face_detection_model.forward()  # Get predictions (like face boxes)\n",
    "    #7 values\t[id, class, confidence, x1, y1, x2, y2] => confidence score is something between 0 and 1\n",
    "    image = img.copy()\n",
    "    \n",
    "    h,w = image.shape[0:2]\n",
    "    \n",
    "    for i in range(0, detections.shape[2]):\n",
    "        confidence = detections[0, 0, i, 2]\n",
    "        if confidence > 0.5:\n",
    "             box = detections[0, 0, i, 3:7]*[w, h, w, h] \n",
    "             box = box.astype(\"int\")\n",
    "             pt1 = (box[0], box[1])\n",
    "             pt2 =(box[2],box[3])\n",
    "             cv2.rectangle(image,pt1,pt2,(0,255,0),2)\n",
    "             text = f'score : {round(confidence * 100)} %'\n",
    "             cv2.putText(image,text,pt1,cv2.FONT_HERSHEY_SIMPLEX,1,(255,255,255),2)\n",
    "    \n",
    "    return image\n"
   ]
  },
  {
   "cell_type": "code",
   "execution_count": 9,
   "id": "0eb1d514-0649-4a91-9932-6e2bb256ae72",
   "metadata": {},
   "outputs": [],
   "source": [
    "cap = cv2.VideoCapture(0)\n",
    "while True:\n",
    "    ret , frame = cap.read()\n",
    "    \n",
    "    if ret == False:\n",
    "        break\n",
    "    cv2.imshow('Live DNN', face_detection_dnn(frame))\n",
    "    if cv2.waitKey(1) == ord ('q'):\n",
    "        break\n",
    "\n",
    "cap.release()\n",
    "cv2.destroyAllWindows()"
   ]
  },
  {
   "cell_type": "markdown",
   "id": "79799a20-7c15-4eae-b99c-ce0754d0ecd8",
   "metadata": {},
   "source": [
    "![Sample Output](sample.png)"
   ]
  },
  {
   "cell_type": "code",
   "execution_count": null,
   "id": "64c1067d-1079-4ae4-af19-4b4d0eb15c65",
   "metadata": {},
   "outputs": [],
   "source": []
  }
 ],
 "metadata": {
  "kernelspec": {
   "display_name": "Python 3 (ipykernel)",
   "language": "python",
   "name": "python3"
  },
  "language_info": {
   "codemirror_mode": {
    "name": "ipython",
    "version": 3
   },
   "file_extension": ".py",
   "mimetype": "text/x-python",
   "name": "python",
   "nbconvert_exporter": "python",
   "pygments_lexer": "ipython3",
   "version": "3.13.3"
  }
 },
 "nbformat": 4,
 "nbformat_minor": 5
}
