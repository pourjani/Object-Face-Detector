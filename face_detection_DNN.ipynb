{
 "cells": [
  {
   "cell_type": "code",
   "execution_count": 253,
   "id": "074f6d79-297e-4525-8d2e-9521fd6f2566",
   "metadata": {},
   "outputs": [],
   "source": [
    "import numpy as np\n",
    "import cv2"
   ]
  },
  {
   "cell_type": "code",
   "execution_count": 254,
   "id": "81c74c18-5cc7-4a2d-9b39-96c22e9bbc2d",
   "metadata": {},
   "outputs": [],
   "source": [
    "img = cv2.imread('faces.jpg')"
   ]
  },
  {
   "cell_type": "code",
   "execution_count": 255,
   "id": "0d7f1df5-63c6-4385-af0e-2780f3d5b925",
   "metadata": {},
   "outputs": [],
   "source": [
    "cv2.imshow('face',img)\n",
    "cv2.waitKey(0)\n",
    "cv2.destroyAllWindows()"
   ]
  },
  {
   "cell_type": "code",
   "execution_count": 256,
   "id": "120d4d5e-620d-4f1e-8601-e92011d809d9",
   "metadata": {},
   "outputs": [],
   "source": [
    "face_detection_model = cv2.dnn.readNetFromCaffe('./models/deploy.prototxt.txt','./models/res10_300x300_ssd_iter_140000_fp16.caffemodel')"
   ]
  },
  {
   "cell_type": "code",
   "execution_count": 257,
   "id": "b567b6ed-2b9e-453e-8078-b4021b535c49",
   "metadata": {},
   "outputs": [],
   "source": [
    "def face_detection_dnn(img):\n",
    "\n",
    "    blob = cv2.dnn.blobFromImage(img, 1, (300, 300), (104, 177, 123), swapRB=True, crop=False)\n",
    "    #(104, 177, 123) => These are the Mean Values for Preprocessing.\n",
    "    #They’re used to normalize the image before passing it to the neural network.\n",
    "    face_detection_model.setInput(blob)  # Feed the preprocessed image in\n",
    "    detections = face_detection_model.forward()  # Get predictions (like face boxes)\n",
    "    #7 values\t[id, class, confidence, x1, y1, x2, y2] => confidence score is something between 0 and 1\n",
    "    image = img.copy()\n",
    "    \n",
    "    h,w = image.shape[0:2]\n",
    "    \n",
    "    for i in range(0, detections.shape[2]):\n",
    "        confidence = detections[0, 0, i, 2]\n",
    "        if confidence > 0.5:\n",
    "             box = detections[0, 0, i, 3:7]*[w, h, w, h] \n",
    "             box = box.astype(\"int\")\n",
    "             pt1 = (box[0], box[1])\n",
    "             pt2 =(box[2],box[3])\n",
    "             cv2.rectangle(image,pt1,pt2,(0,255,0),2)\n",
    "             text = f'score : {round(confidence * 100)} %'\n",
    "             cv2.putText(image,text,pt1,cv2.FONT_HERSHEY_SIMPLEX,1,(255,255,255),2)\n",
    "    \n",
    "    return image\n",
    "\n",
    "        \n"
   ]
  },
  {
   "cell_type": "code",
   "execution_count": 258,
   "id": "55f6d990-2554-4128-af91-d95df53d6133",
   "metadata": {},
   "outputs": [],
   "source": [
    "image_detected=face_detection_dnn(img)\n",
    "cv2.imshow('face detection',image_detected)\n",
    "cv2.waitKey(0)\n",
    "cv2.destroyAllWindows()"
   ]
  },
  {
   "cell_type": "markdown",
   "id": "5f42681b-e908-40d0-b832-722cfe18da9c",
   "metadata": {
    "scrolled": true
   },
   "source": [
    "![Sample Output](output.png)"
   ]
  }
 ],
 "metadata": {
  "kernelspec": {
   "display_name": "Python 3 (ipykernel)",
   "language": "python",
   "name": "python3"
  },
  "language_info": {
   "codemirror_mode": {
    "name": "ipython",
    "version": 3
   },
   "file_extension": ".py",
   "mimetype": "text/x-python",
   "name": "python",
   "nbconvert_exporter": "python",
   "pygments_lexer": "ipython3",
   "version": "3.13.3"
  }
 },
 "nbformat": 4,
 "nbformat_minor": 5
}
